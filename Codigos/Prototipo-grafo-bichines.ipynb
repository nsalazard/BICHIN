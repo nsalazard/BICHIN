{
 "cells": [
  {
   "cell_type": "code",
   "execution_count": 108,
   "id": "c3fbfa18",
   "metadata": {},
   "outputs": [
    {
     "name": "stdout",
     "output_type": "stream",
     "text": [
      "IGRAPH UNW- 4 6 --\n",
      "+ attr: name (v), weight (e)\n",
      "+ edges (vertex names):\n",
      "B1 -- B2, B3, B4   B2 -- B1, B3, B4   B3 -- B1, B2, B4   B4 -- B1, B2, B3\n"
     ]
    },
    {
     "data": {
      "text/html": [
       "<div>\n",
       "<style scoped>\n",
       "    .dataframe tbody tr th:only-of-type {\n",
       "        vertical-align: middle;\n",
       "    }\n",
       "\n",
       "    .dataframe tbody tr th {\n",
       "        vertical-align: top;\n",
       "    }\n",
       "\n",
       "    .dataframe thead th {\n",
       "        text-align: right;\n",
       "    }\n",
       "</style>\n",
       "<table border=\"1\" class=\"dataframe\">\n",
       "  <thead>\n",
       "    <tr style=\"text-align: right;\">\n",
       "      <th></th>\n",
       "      <th>id</th>\n",
       "      <th>gen-predominante</th>\n",
       "    </tr>\n",
       "  </thead>\n",
       "  <tbody>\n",
       "    <tr>\n",
       "      <th>0</th>\n",
       "      <td>B1</td>\n",
       "      <td>N</td>\n",
       "    </tr>\n",
       "    <tr>\n",
       "      <th>1</th>\n",
       "      <td>B2</td>\n",
       "      <td>S</td>\n",
       "    </tr>\n",
       "    <tr>\n",
       "      <th>2</th>\n",
       "      <td>B3</td>\n",
       "      <td>W</td>\n",
       "    </tr>\n",
       "  </tbody>\n",
       "</table>\n",
       "</div>"
      ],
      "text/plain": [
       "   id gen-predominante\n",
       "0  B1                N\n",
       "1  B2                S\n",
       "2  B3                W"
      ]
     },
     "execution_count": 108,
     "metadata": {},
     "output_type": "execute_result"
    }
   ],
   "source": [
    "import igraph as ig\n",
    "import pandas as pd\n",
    "\n",
    "\n",
    "\n",
    "nodes = pd.read_csv('./InputFileNodesTrial.csv')\n",
    "edges = pd.read_csv('./InputFileEdgesTrial.csv') #Importar datos\n",
    "g = ig.Graph.TupleList(edges.values,directed=False, #Forma tuples con las conexiones de los nodos, e indica si usar flechas\n",
    "                       edge_attrs=edges.columns[2:])#Guarda los atributos extras (peso,tipo,etc)\n",
    "\n",
    "\n",
    "\n"
   ]
  },
  {
   "cell_type": "code",
   "execution_count": 87,
   "id": "6e0e0fb5",
   "metadata": {},
   "outputs": [
    {
     "data": {
      "text/html": [
       "<div>\n",
       "<style scoped>\n",
       "    .dataframe tbody tr th:only-of-type {\n",
       "        vertical-align: middle;\n",
       "    }\n",
       "\n",
       "    .dataframe tbody tr th {\n",
       "        vertical-align: top;\n",
       "    }\n",
       "\n",
       "    .dataframe thead th {\n",
       "        text-align: right;\n",
       "    }\n",
       "</style>\n",
       "<table border=\"1\" class=\"dataframe\">\n",
       "  <thead>\n",
       "    <tr style=\"text-align: right;\">\n",
       "      <th></th>\n",
       "      <th>gen-predominante</th>\n",
       "    </tr>\n",
       "    <tr>\n",
       "      <th>id</th>\n",
       "      <th></th>\n",
       "    </tr>\n",
       "  </thead>\n",
       "  <tbody>\n",
       "    <tr>\n",
       "      <th>B1</th>\n",
       "      <td>N</td>\n",
       "    </tr>\n",
       "    <tr>\n",
       "      <th>B2</th>\n",
       "      <td>S</td>\n",
       "    </tr>\n",
       "    <tr>\n",
       "      <th>B3</th>\n",
       "      <td>W</td>\n",
       "    </tr>\n",
       "  </tbody>\n",
       "</table>\n",
       "</div>"
      ],
      "text/plain": [
       "   gen-predominante\n",
       "id                 \n",
       "B1                N\n",
       "B2                S\n",
       "B3                W"
      ]
     },
     "execution_count": 87,
     "metadata": {},
     "output_type": "execute_result"
    }
   ],
   "source": [
    "nodes_df = nodes.set_index(['id'])\n",
    "nodes_df.head(3) #Organizar el dataframe"
   ]
  },
  {
   "cell_type": "code",
   "execution_count": 109,
   "id": "15314c8b",
   "metadata": {},
   "outputs": [],
   "source": [
    "\n",
    "\n",
    "for column in nodes_df:   \n",
    "    \n",
    "    g.vs[column] = nodes_df.loc[g.vs['name'],column] #g.vs guarda los atributos relacionados con los vertices (nodos)\n",
    "                                                     #El atributo es el gen-dominante en este caso (Se pueden agregar mas)\n"
   ]
  },
  {
   "cell_type": "code",
   "execution_count": 129,
   "id": "7bb6d066",
   "metadata": {
    "scrolled": true
   },
   "outputs": [
    {
     "data": {
      "image/svg+xml": [
       "<?xml version=\"1.0\" encoding=\"UTF-8\"?>\n",
       "<svg xmlns=\"http://www.w3.org/2000/svg\" xmlns:xlink=\"http://www.w3.org/1999/xlink\" width=\"300pt\" height=\"300pt\" viewBox=\"0 0 300 300\" version=\"1.1\">\n",
       "<defs>\n",
       "<g>\n",
       "<symbol overflow=\"visible\" id=\"glyph0-0\">\n",
       "<path style=\"stroke:none;\" d=\"M 1.40625 -9.625 L 9.09375 -9.625 L 9.09375 0 L 1.40625 0 Z M 1.921875 -9.109375 L 1.921875 -0.515625 L 8.578125 -0.515625 L 8.578125 -9.109375 Z M 1.921875 -9.109375 \"/>\n",
       "</symbol>\n",
       "<symbol overflow=\"visible\" id=\"glyph0-1\">\n",
       "<path style=\"stroke:none;\" d=\"M 8.59375 -2.71875 C 8.59375 -1.851562 8.28125 -1.179688 7.65625 -0.703125 C 7.039062 -0.234375 6.175781 0 5.0625 0 L 1.15625 0 L 1.15625 -9.625 L 4.65625 -9.625 C 6.914062 -9.625 8.046875 -8.847656 8.046875 -7.296875 C 8.046875 -6.722656 7.882812 -6.242188 7.5625 -5.859375 C 7.238281 -5.472656 6.785156 -5.210938 6.203125 -5.078125 C 6.972656 -4.984375 7.5625 -4.722656 7.96875 -4.296875 C 8.382812 -3.878906 8.59375 -3.351562 8.59375 -2.71875 Z M 6.734375 -7.140625 C 6.734375 -7.660156 6.550781 -8.03125 6.1875 -8.25 C 5.832031 -8.476562 5.320312 -8.59375 4.65625 -8.59375 L 2.453125 -8.59375 L 2.453125 -5.53125 L 4.65625 -5.53125 C 5.34375 -5.53125 5.859375 -5.660156 6.203125 -5.921875 C 6.554688 -6.191406 6.734375 -6.597656 6.734375 -7.140625 Z M 7.28125 -2.8125 C 7.28125 -3.945312 6.484375 -4.515625 4.890625 -4.515625 L 2.453125 -4.515625 L 2.453125 -1.046875 L 4.984375 -1.046875 C 5.785156 -1.046875 6.367188 -1.191406 6.734375 -1.484375 C 7.097656 -1.785156 7.28125 -2.226562 7.28125 -2.8125 Z M 7.28125 -2.8125 \"/>\n",
       "</symbol>\n",
       "<symbol overflow=\"visible\" id=\"glyph0-2\">\n",
       "<path style=\"stroke:none;\" d=\"M 1.0625 0 L 1.0625 -1.046875 L 3.515625 -1.046875 L 3.515625 -8.453125 L 1.34375 -6.90625 L 1.34375 -8.0625 L 3.625 -9.625 L 4.765625 -9.625 L 4.765625 -1.046875 L 7.109375 -1.046875 L 7.109375 0 Z M 1.0625 0 \"/>\n",
       "</symbol>\n",
       "<symbol overflow=\"visible\" id=\"glyph0-3\">\n",
       "<path style=\"stroke:none;\" d=\"M 0.703125 0 L 0.703125 -0.875 C 0.929688 -1.40625 1.210938 -1.875 1.546875 -2.28125 C 1.890625 -2.6875 2.242188 -3.054688 2.609375 -3.390625 C 2.984375 -3.722656 3.347656 -4.03125 3.703125 -4.3125 C 4.066406 -4.59375 4.394531 -4.875 4.6875 -5.15625 C 4.976562 -5.4375 5.210938 -5.734375 5.390625 -6.046875 C 5.578125 -6.359375 5.671875 -6.707031 5.671875 -7.09375 C 5.671875 -7.625 5.515625 -8.035156 5.203125 -8.328125 C 4.890625 -8.617188 4.457031 -8.765625 3.90625 -8.765625 C 3.382812 -8.765625 2.953125 -8.617188 2.609375 -8.328125 C 2.273438 -8.046875 2.078125 -7.648438 2.015625 -7.140625 L 0.765625 -7.25 C 0.847656 -8.019531 1.171875 -8.632812 1.734375 -9.09375 C 2.296875 -9.550781 3.019531 -9.78125 3.90625 -9.78125 C 4.875 -9.78125 5.617188 -9.550781 6.140625 -9.09375 C 6.671875 -8.632812 6.9375 -7.984375 6.9375 -7.140625 C 6.9375 -6.765625 6.847656 -6.390625 6.671875 -6.015625 C 6.503906 -5.648438 6.25 -5.28125 5.90625 -4.90625 C 5.570312 -4.539062 4.929688 -3.972656 3.984375 -3.203125 C 3.453125 -2.773438 3.03125 -2.390625 2.71875 -2.046875 C 2.414062 -1.703125 2.195312 -1.367188 2.0625 -1.046875 L 7.078125 -1.046875 L 7.078125 0 Z M 0.703125 0 \"/>\n",
       "</symbol>\n",
       "<symbol overflow=\"visible\" id=\"glyph0-4\">\n",
       "<path style=\"stroke:none;\" d=\"M 7.171875 -2.65625 C 7.171875 -1.769531 6.882812 -1.082031 6.3125 -0.59375 C 5.75 -0.101562 4.945312 0.140625 3.90625 0.140625 C 2.925781 0.140625 2.144531 -0.078125 1.5625 -0.515625 C 0.988281 -0.960938 0.644531 -1.613281 0.53125 -2.46875 L 1.8125 -2.59375 C 1.96875 -1.445312 2.664062 -0.875 3.90625 -0.875 C 4.519531 -0.875 5.003906 -1.023438 5.359375 -1.328125 C 5.710938 -1.640625 5.890625 -2.097656 5.890625 -2.703125 C 5.890625 -3.222656 5.6875 -3.628906 5.28125 -3.921875 C 4.882812 -4.222656 4.304688 -4.375 3.546875 -4.375 L 2.84375 -4.375 L 2.84375 -5.4375 L 3.515625 -5.4375 C 4.191406 -5.4375 4.710938 -5.582031 5.078125 -5.875 C 5.453125 -6.164062 5.640625 -6.570312 5.640625 -7.09375 C 5.640625 -7.613281 5.488281 -8.019531 5.1875 -8.3125 C 4.882812 -8.613281 4.429688 -8.765625 3.828125 -8.765625 C 3.285156 -8.765625 2.847656 -8.625 2.515625 -8.34375 C 2.179688 -8.070312 1.988281 -7.679688 1.9375 -7.171875 L 0.703125 -7.265625 C 0.785156 -8.054688 1.109375 -8.671875 1.671875 -9.109375 C 2.234375 -9.554688 2.957031 -9.78125 3.84375 -9.78125 C 4.8125 -9.78125 5.5625 -9.550781 6.09375 -9.09375 C 6.632812 -8.644531 6.90625 -8.019531 6.90625 -7.21875 C 6.90625 -6.601562 6.734375 -6.101562 6.390625 -5.71875 C 6.046875 -5.332031 5.546875 -5.070312 4.890625 -4.9375 L 4.890625 -4.921875 C 5.609375 -4.835938 6.164062 -4.59375 6.5625 -4.1875 C 6.96875 -3.78125 7.171875 -3.269531 7.171875 -2.65625 Z M 7.171875 -2.65625 \"/>\n",
       "</symbol>\n",
       "<symbol overflow=\"visible\" id=\"glyph0-5\">\n",
       "<path style=\"stroke:none;\" d=\"M 6.015625 -2.1875 L 6.015625 0 L 4.859375 0 L 4.859375 -2.1875 L 0.328125 -2.1875 L 0.328125 -3.140625 L 4.734375 -9.625 L 6.015625 -9.625 L 6.015625 -3.15625 L 7.375 -3.15625 L 7.375 -2.1875 Z M 4.859375 -8.25 C 4.847656 -8.21875 4.78125 -8.09375 4.65625 -7.875 C 4.539062 -7.664062 4.457031 -7.519531 4.40625 -7.4375 L 1.9375 -3.796875 L 1.5625 -3.28125 L 1.453125 -3.15625 L 4.859375 -3.15625 Z M 4.859375 -8.25 \"/>\n",
       "</symbol>\n",
       "</g>\n",
       "</defs>\n",
       "<g id=\"surface127\">\n",
       "<rect x=\"0\" y=\"0\" width=\"300\" height=\"300\" style=\"fill:rgb(100%,100%,100%);fill-opacity:1;stroke:none;\"/>\n",
       "<path style=\"fill:none;stroke-width:1;stroke-linecap:butt;stroke-linejoin:miter;stroke:rgb(26.666667%,26.666667%,26.666667%);stroke-opacity:1;stroke-miterlimit:10;\" d=\"M 280 208.042969 L 91.957031 280 \"/>\n",
       "<path style=\"fill:none;stroke-width:1;stroke-linecap:butt;stroke-linejoin:miter;stroke:rgb(26.666667%,26.666667%,26.666667%);stroke-opacity:1;stroke-miterlimit:10;\" d=\"M 280 208.042969 L 20 91.957031 \"/>\n",
       "<path style=\"fill:none;stroke-width:1;stroke-linecap:butt;stroke-linejoin:miter;stroke:rgb(26.666667%,26.666667%,26.666667%);stroke-opacity:1;stroke-miterlimit:10;\" d=\"M 280 208.042969 L 208.042969 20 \"/>\n",
       "<path style=\"fill:none;stroke-width:1;stroke-linecap:butt;stroke-linejoin:miter;stroke:rgb(26.666667%,26.666667%,26.666667%);stroke-opacity:1;stroke-miterlimit:10;\" d=\"M 91.957031 280 L 20 91.957031 \"/>\n",
       "<path style=\"fill:none;stroke-width:1;stroke-linecap:butt;stroke-linejoin:miter;stroke:rgb(26.666667%,26.666667%,26.666667%);stroke-opacity:1;stroke-miterlimit:10;\" d=\"M 91.957031 280 L 208.042969 20 \"/>\n",
       "<path style=\"fill:none;stroke-width:1;stroke-linecap:butt;stroke-linejoin:miter;stroke:rgb(26.666667%,26.666667%,26.666667%);stroke-opacity:1;stroke-miterlimit:10;\" d=\"M 20 91.957031 L 208.042969 20 \"/>\n",
       "<path style=\"fill-rule:nonzero;fill:rgb(100%,0%,0%);fill-opacity:1;stroke-width:1;stroke-linecap:butt;stroke-linejoin:miter;stroke:rgb(0%,0%,0%);stroke-opacity:1;stroke-miterlimit:10;\" d=\"M 290 208.042969 C 290 213.566406 285.523438 218.042969 280 218.042969 C 274.476562 218.042969 270 213.566406 270 208.042969 C 270 202.519531 274.476562 198.042969 280 198.042969 C 285.523438 198.042969 290 202.519531 290 208.042969 \"/>\n",
       "<path style=\"fill-rule:nonzero;fill:rgb(100%,0%,0%);fill-opacity:1;stroke-width:1;stroke-linecap:butt;stroke-linejoin:miter;stroke:rgb(0%,0%,0%);stroke-opacity:1;stroke-miterlimit:10;\" d=\"M 101.957031 280 C 101.957031 285.523438 97.480469 290 91.957031 290 C 86.433594 290 81.957031 285.523438 81.957031 280 C 81.957031 274.476562 86.433594 270 91.957031 270 C 97.480469 270 101.957031 274.476562 101.957031 280 \"/>\n",
       "<path style=\"fill-rule:nonzero;fill:rgb(100%,0%,0%);fill-opacity:1;stroke-width:1;stroke-linecap:butt;stroke-linejoin:miter;stroke:rgb(0%,0%,0%);stroke-opacity:1;stroke-miterlimit:10;\" d=\"M 30 91.957031 C 30 97.480469 25.523438 101.957031 20 101.957031 C 14.476562 101.957031 10 97.480469 10 91.957031 C 10 86.433594 14.476562 81.957031 20 81.957031 C 25.523438 81.957031 30 86.433594 30 91.957031 \"/>\n",
       "<path style=\"fill-rule:nonzero;fill:rgb(100%,0%,0%);fill-opacity:1;stroke-width:1;stroke-linecap:butt;stroke-linejoin:miter;stroke:rgb(0%,0%,0%);stroke-opacity:1;stroke-miterlimit:10;\" d=\"M 218.042969 20 C 218.042969 25.523438 213.566406 30 208.042969 30 C 202.519531 30 198.042969 25.523438 198.042969 20 C 198.042969 14.476562 202.519531 10 208.042969 10 C 213.566406 10 218.042969 14.476562 218.042969 20 \"/>\n",
       "<g style=\"fill:rgb(0%,0%,0%);fill-opacity:1;\">\n",
       "  <use xlink:href=\"#glyph0-1\" x=\"271.207031\" y=\"214.339844\"/>\n",
       "  <use xlink:href=\"#glyph0-2\" x=\"280.544922\" y=\"214.339844\"/>\n",
       "</g>\n",
       "<g style=\"fill:rgb(0%,0%,0%);fill-opacity:1;\">\n",
       "  <use xlink:href=\"#glyph0-1\" x=\"83.171875\" y=\"286.371094\"/>\n",
       "  <use xlink:href=\"#glyph0-3\" x=\"92.509766\" y=\"286.371094\"/>\n",
       "</g>\n",
       "<g style=\"fill:rgb(0%,0%,0%);fill-opacity:1;\">\n",
       "  <use xlink:href=\"#glyph0-1\" x=\"11.171875\" y=\"98.328125\"/>\n",
       "  <use xlink:href=\"#glyph0-4\" x=\"20.509766\" y=\"98.328125\"/>\n",
       "</g>\n",
       "<g style=\"fill:rgb(0%,0%,0%);fill-opacity:1;\">\n",
       "  <use xlink:href=\"#glyph0-1\" x=\"199.109375\" y=\"26.300781\"/>\n",
       "  <use xlink:href=\"#glyph0-5\" x=\"208.447266\" y=\"26.300781\"/>\n",
       "</g>\n",
       "</g>\n",
       "</svg>\n"
      ],
      "text/plain": [
       "<igraph.drawing.cairo.plot.CairoPlot at 0x7f848cbb70d0>"
      ]
     },
     "execution_count": 129,
     "metadata": {
      "image/svg+xml": {
       "isolated": true
      }
     },
     "output_type": "execute_result"
    }
   ],
   "source": [
    "\n",
    "ig.plot(g, \"Graph.png\", bbox=(300,300), vertex_label=g.vs[\"name\"]) "
   ]
  },
  {
   "cell_type": "code",
   "execution_count": 131,
   "id": "35ffcd99",
   "metadata": {},
   "outputs": [
    {
     "data": {
      "image/svg+xml": [
       "<?xml version=\"1.0\" encoding=\"UTF-8\"?>\n",
       "<svg xmlns=\"http://www.w3.org/2000/svg\" xmlns:xlink=\"http://www.w3.org/1999/xlink\" width=\"300pt\" height=\"300pt\" viewBox=\"0 0 300 300\" version=\"1.1\">\n",
       "<defs>\n",
       "<g>\n",
       "<symbol overflow=\"visible\" id=\"glyph0-0\">\n",
       "<path style=\"stroke:none;\" d=\"M 1.40625 -9.625 L 9.09375 -9.625 L 9.09375 0 L 1.40625 0 Z M 1.921875 -9.109375 L 1.921875 -0.515625 L 8.578125 -0.515625 L 8.578125 -9.109375 Z M 1.921875 -9.109375 \"/>\n",
       "</symbol>\n",
       "<symbol overflow=\"visible\" id=\"glyph0-1\">\n",
       "<path style=\"stroke:none;\" d=\"M 8.59375 -2.71875 C 8.59375 -1.851562 8.28125 -1.179688 7.65625 -0.703125 C 7.039062 -0.234375 6.175781 0 5.0625 0 L 1.15625 0 L 1.15625 -9.625 L 4.65625 -9.625 C 6.914062 -9.625 8.046875 -8.847656 8.046875 -7.296875 C 8.046875 -6.722656 7.882812 -6.242188 7.5625 -5.859375 C 7.238281 -5.472656 6.785156 -5.210938 6.203125 -5.078125 C 6.972656 -4.984375 7.5625 -4.722656 7.96875 -4.296875 C 8.382812 -3.878906 8.59375 -3.351562 8.59375 -2.71875 Z M 6.734375 -7.140625 C 6.734375 -7.660156 6.550781 -8.03125 6.1875 -8.25 C 5.832031 -8.476562 5.320312 -8.59375 4.65625 -8.59375 L 2.453125 -8.59375 L 2.453125 -5.53125 L 4.65625 -5.53125 C 5.34375 -5.53125 5.859375 -5.660156 6.203125 -5.921875 C 6.554688 -6.191406 6.734375 -6.597656 6.734375 -7.140625 Z M 7.28125 -2.8125 C 7.28125 -3.945312 6.484375 -4.515625 4.890625 -4.515625 L 2.453125 -4.515625 L 2.453125 -1.046875 L 4.984375 -1.046875 C 5.785156 -1.046875 6.367188 -1.191406 6.734375 -1.484375 C 7.097656 -1.785156 7.28125 -2.226562 7.28125 -2.8125 Z M 7.28125 -2.8125 \"/>\n",
       "</symbol>\n",
       "<symbol overflow=\"visible\" id=\"glyph0-2\">\n",
       "<path style=\"stroke:none;\" d=\"M 1.0625 0 L 1.0625 -1.046875 L 3.515625 -1.046875 L 3.515625 -8.453125 L 1.34375 -6.90625 L 1.34375 -8.0625 L 3.625 -9.625 L 4.765625 -9.625 L 4.765625 -1.046875 L 7.109375 -1.046875 L 7.109375 0 Z M 1.0625 0 \"/>\n",
       "</symbol>\n",
       "<symbol overflow=\"visible\" id=\"glyph0-3\">\n",
       "<path style=\"stroke:none;\" d=\"M 0.703125 0 L 0.703125 -0.875 C 0.929688 -1.40625 1.210938 -1.875 1.546875 -2.28125 C 1.890625 -2.6875 2.242188 -3.054688 2.609375 -3.390625 C 2.984375 -3.722656 3.347656 -4.03125 3.703125 -4.3125 C 4.066406 -4.59375 4.394531 -4.875 4.6875 -5.15625 C 4.976562 -5.4375 5.210938 -5.734375 5.390625 -6.046875 C 5.578125 -6.359375 5.671875 -6.707031 5.671875 -7.09375 C 5.671875 -7.625 5.515625 -8.035156 5.203125 -8.328125 C 4.890625 -8.617188 4.457031 -8.765625 3.90625 -8.765625 C 3.382812 -8.765625 2.953125 -8.617188 2.609375 -8.328125 C 2.273438 -8.046875 2.078125 -7.648438 2.015625 -7.140625 L 0.765625 -7.25 C 0.847656 -8.019531 1.171875 -8.632812 1.734375 -9.09375 C 2.296875 -9.550781 3.019531 -9.78125 3.90625 -9.78125 C 4.875 -9.78125 5.617188 -9.550781 6.140625 -9.09375 C 6.671875 -8.632812 6.9375 -7.984375 6.9375 -7.140625 C 6.9375 -6.765625 6.847656 -6.390625 6.671875 -6.015625 C 6.503906 -5.648438 6.25 -5.28125 5.90625 -4.90625 C 5.570312 -4.539062 4.929688 -3.972656 3.984375 -3.203125 C 3.453125 -2.773438 3.03125 -2.390625 2.71875 -2.046875 C 2.414062 -1.703125 2.195312 -1.367188 2.0625 -1.046875 L 7.078125 -1.046875 L 7.078125 0 Z M 0.703125 0 \"/>\n",
       "</symbol>\n",
       "<symbol overflow=\"visible\" id=\"glyph0-4\">\n",
       "<path style=\"stroke:none;\" d=\"M 7.171875 -2.65625 C 7.171875 -1.769531 6.882812 -1.082031 6.3125 -0.59375 C 5.75 -0.101562 4.945312 0.140625 3.90625 0.140625 C 2.925781 0.140625 2.144531 -0.078125 1.5625 -0.515625 C 0.988281 -0.960938 0.644531 -1.613281 0.53125 -2.46875 L 1.8125 -2.59375 C 1.96875 -1.445312 2.664062 -0.875 3.90625 -0.875 C 4.519531 -0.875 5.003906 -1.023438 5.359375 -1.328125 C 5.710938 -1.640625 5.890625 -2.097656 5.890625 -2.703125 C 5.890625 -3.222656 5.6875 -3.628906 5.28125 -3.921875 C 4.882812 -4.222656 4.304688 -4.375 3.546875 -4.375 L 2.84375 -4.375 L 2.84375 -5.4375 L 3.515625 -5.4375 C 4.191406 -5.4375 4.710938 -5.582031 5.078125 -5.875 C 5.453125 -6.164062 5.640625 -6.570312 5.640625 -7.09375 C 5.640625 -7.613281 5.488281 -8.019531 5.1875 -8.3125 C 4.882812 -8.613281 4.429688 -8.765625 3.828125 -8.765625 C 3.285156 -8.765625 2.847656 -8.625 2.515625 -8.34375 C 2.179688 -8.070312 1.988281 -7.679688 1.9375 -7.171875 L 0.703125 -7.265625 C 0.785156 -8.054688 1.109375 -8.671875 1.671875 -9.109375 C 2.234375 -9.554688 2.957031 -9.78125 3.84375 -9.78125 C 4.8125 -9.78125 5.5625 -9.550781 6.09375 -9.09375 C 6.632812 -8.644531 6.90625 -8.019531 6.90625 -7.21875 C 6.90625 -6.601562 6.734375 -6.101562 6.390625 -5.71875 C 6.046875 -5.332031 5.546875 -5.070312 4.890625 -4.9375 L 4.890625 -4.921875 C 5.609375 -4.835938 6.164062 -4.59375 6.5625 -4.1875 C 6.96875 -3.78125 7.171875 -3.269531 7.171875 -2.65625 Z M 7.171875 -2.65625 \"/>\n",
       "</symbol>\n",
       "<symbol overflow=\"visible\" id=\"glyph0-5\">\n",
       "<path style=\"stroke:none;\" d=\"M 6.015625 -2.1875 L 6.015625 0 L 4.859375 0 L 4.859375 -2.1875 L 0.328125 -2.1875 L 0.328125 -3.140625 L 4.734375 -9.625 L 6.015625 -9.625 L 6.015625 -3.15625 L 7.375 -3.15625 L 7.375 -2.1875 Z M 4.859375 -8.25 C 4.847656 -8.21875 4.78125 -8.09375 4.65625 -7.875 C 4.539062 -7.664062 4.457031 -7.519531 4.40625 -7.4375 L 1.9375 -3.796875 L 1.5625 -3.28125 L 1.453125 -3.15625 L 4.859375 -3.15625 Z M 4.859375 -8.25 \"/>\n",
       "</symbol>\n",
       "</g>\n",
       "</defs>\n",
       "<g id=\"surface147\">\n",
       "<rect x=\"0\" y=\"0\" width=\"300\" height=\"300\" style=\"fill:rgb(100%,100%,100%);fill-opacity:1;stroke:none;\"/>\n",
       "<path style=\"fill:none;stroke-width:2;stroke-linecap:butt;stroke-linejoin:miter;stroke:rgb(26.666667%,26.666667%,26.666667%);stroke-opacity:1;stroke-miterlimit:10;\" d=\"M 280 208.042969 L 91.957031 280 \"/>\n",
       "<path style=\"fill:none;stroke-width:1;stroke-linecap:butt;stroke-linejoin:miter;stroke:rgb(26.666667%,26.666667%,26.666667%);stroke-opacity:1;stroke-miterlimit:10;\" d=\"M 280 208.042969 L 20 91.957031 \"/>\n",
       "<path style=\"fill:none;stroke-width:1.5;stroke-linecap:butt;stroke-linejoin:miter;stroke:rgb(26.666667%,26.666667%,26.666667%);stroke-opacity:1;stroke-miterlimit:10;\" d=\"M 280 208.042969 L 208.042969 20 \"/>\n",
       "<path style=\"fill:none;stroke-width:1;stroke-linecap:butt;stroke-linejoin:miter;stroke:rgb(26.666667%,26.666667%,26.666667%);stroke-opacity:1;stroke-miterlimit:10;\" d=\"M 91.957031 280 L 20 91.957031 \"/>\n",
       "<path style=\"fill:none;stroke-width:1;stroke-linecap:butt;stroke-linejoin:miter;stroke:rgb(26.666667%,26.666667%,26.666667%);stroke-opacity:1;stroke-miterlimit:10;\" d=\"M 91.957031 280 L 208.042969 20 \"/>\n",
       "<path style=\"fill:none;stroke-width:2;stroke-linecap:butt;stroke-linejoin:miter;stroke:rgb(26.666667%,26.666667%,26.666667%);stroke-opacity:1;stroke-miterlimit:10;\" d=\"M 20 91.957031 L 208.042969 20 \"/>\n",
       "<path style=\"fill-rule:nonzero;fill:rgb(0%,0%,100%);fill-opacity:1;stroke-width:1;stroke-linecap:butt;stroke-linejoin:miter;stroke:rgb(0%,0%,0%);stroke-opacity:1;stroke-miterlimit:10;\" d=\"M 295 208.042969 C 295 216.328125 288.285156 223.042969 280 223.042969 C 271.714844 223.042969 265 216.328125 265 208.042969 C 265 199.757812 271.714844 193.042969 280 193.042969 C 288.285156 193.042969 295 199.757812 295 208.042969 \"/>\n",
       "<path style=\"fill-rule:nonzero;fill:rgb(100%,100%,0%);fill-opacity:1;stroke-width:1;stroke-linecap:butt;stroke-linejoin:miter;stroke:rgb(0%,0%,0%);stroke-opacity:1;stroke-miterlimit:10;\" d=\"M 106.957031 280 C 106.957031 288.285156 100.242188 295 91.957031 295 C 83.671875 295 76.957031 288.285156 76.957031 280 C 76.957031 271.714844 83.671875 265 91.957031 265 C 100.242188 265 106.957031 271.714844 106.957031 280 \"/>\n",
       "<path style=\"fill-rule:nonzero;fill:rgb(100%,0%,0%);fill-opacity:1;stroke-width:1;stroke-linecap:butt;stroke-linejoin:miter;stroke:rgb(0%,0%,0%);stroke-opacity:1;stroke-miterlimit:10;\" d=\"M 35 91.957031 C 35 100.242188 28.285156 106.957031 20 106.957031 C 11.714844 106.957031 5 100.242188 5 91.957031 C 5 83.671875 11.714844 76.957031 20 76.957031 C 28.285156 76.957031 35 83.671875 35 91.957031 \"/>\n",
       "<path style=\"fill-rule:nonzero;fill:rgb(0%,100%,0%);fill-opacity:1;stroke-width:1;stroke-linecap:butt;stroke-linejoin:miter;stroke:rgb(0%,0%,0%);stroke-opacity:1;stroke-miterlimit:10;\" d=\"M 223.042969 20 C 223.042969 28.285156 216.328125 35 208.042969 35 C 199.757812 35 193.042969 28.285156 193.042969 20 C 193.042969 11.714844 199.757812 5 208.042969 5 C 216.328125 5 223.042969 11.714844 223.042969 20 \"/>\n",
       "<g style=\"fill:rgb(0%,0%,0%);fill-opacity:1;\">\n",
       "  <use xlink:href=\"#glyph0-1\" x=\"271.207031\" y=\"214.339844\"/>\n",
       "  <use xlink:href=\"#glyph0-2\" x=\"280.544922\" y=\"214.339844\"/>\n",
       "</g>\n",
       "<g style=\"fill:rgb(0%,0%,0%);fill-opacity:1;\">\n",
       "  <use xlink:href=\"#glyph0-1\" x=\"83.171875\" y=\"286.371094\"/>\n",
       "  <use xlink:href=\"#glyph0-3\" x=\"92.509766\" y=\"286.371094\"/>\n",
       "</g>\n",
       "<g style=\"fill:rgb(0%,0%,0%);fill-opacity:1;\">\n",
       "  <use xlink:href=\"#glyph0-1\" x=\"11.171875\" y=\"98.328125\"/>\n",
       "  <use xlink:href=\"#glyph0-4\" x=\"20.509766\" y=\"98.328125\"/>\n",
       "</g>\n",
       "<g style=\"fill:rgb(0%,0%,0%);fill-opacity:1;\">\n",
       "  <use xlink:href=\"#glyph0-1\" x=\"199.109375\" y=\"26.300781\"/>\n",
       "  <use xlink:href=\"#glyph0-5\" x=\"208.447266\" y=\"26.300781\"/>\n",
       "</g>\n",
       "</g>\n",
       "</svg>\n"
      ],
      "text/plain": [
       "<igraph.drawing.cairo.plot.CairoPlot at 0x7f848ef9f7c0>"
      ]
     },
     "execution_count": 131,
     "metadata": {
      "image/svg+xml": {
       "isolated": true
      }
     },
     "output_type": "execute_result"
    }
   ],
   "source": [
    "vertex_type_dict = {\"N\": \"blue\", \"S\": \"yellow\", \"W\": \"red\",\"E\":\"green\"} #Colores asignados a los genes\n",
    "visual_style = {}\n",
    "\n",
    "visual_style[\"vertex_size\"] = 30 #tamano nodo\n",
    "visual_style[\"vertex_color\"] = [vertex_type_dict[type_label] for type_label in g.vs[\"gen-predominante\"]] #asignar color\n",
    "visual_style[\"vertex_label\"] = g.vs[\"name\"] #nombre de los nodos\n",
    "visual_style[\"edge_width\"] = [weight/10 for weight in g.es['weight']]\n",
    "visual_style[\"bbox\"] = (300, 300)\n",
    "visual_style[\"margin\"] = 20\n",
    "ig.plot(g, \"Graph_color.png\", **visual_style)"
   ]
  },
  {
   "cell_type": "code",
   "execution_count": 126,
   "id": "b10209be",
   "metadata": {},
   "outputs": [
    {
     "name": "stdout",
     "output_type": "stream",
     "text": [
      "(6, 3) \n",
      " (6, 3)\n"
     ]
    },
    {
     "data": {
      "text/html": [
       "<div>\n",
       "<style scoped>\n",
       "    .dataframe tbody tr th:only-of-type {\n",
       "        vertical-align: middle;\n",
       "    }\n",
       "\n",
       "    .dataframe tbody tr th {\n",
       "        vertical-align: top;\n",
       "    }\n",
       "\n",
       "    .dataframe thead th {\n",
       "        text-align: right;\n",
       "    }\n",
       "</style>\n",
       "<table border=\"1\" class=\"dataframe\">\n",
       "  <thead>\n",
       "    <tr style=\"text-align: right;\">\n",
       "      <th></th>\n",
       "      <th>from</th>\n",
       "      <th>to</th>\n",
       "      <th>weight</th>\n",
       "    </tr>\n",
       "  </thead>\n",
       "  <tbody>\n",
       "    <tr>\n",
       "      <th>0</th>\n",
       "      <td>B1</td>\n",
       "      <td>B2</td>\n",
       "      <td>20</td>\n",
       "    </tr>\n",
       "    <tr>\n",
       "      <th>1</th>\n",
       "      <td>B1</td>\n",
       "      <td>B3</td>\n",
       "      <td>10</td>\n",
       "    </tr>\n",
       "    <tr>\n",
       "      <th>2</th>\n",
       "      <td>B1</td>\n",
       "      <td>B4</td>\n",
       "      <td>15</td>\n",
       "    </tr>\n",
       "    <tr>\n",
       "      <th>3</th>\n",
       "      <td>B2</td>\n",
       "      <td>B3</td>\n",
       "      <td>10</td>\n",
       "    </tr>\n",
       "    <tr>\n",
       "      <th>4</th>\n",
       "      <td>B2</td>\n",
       "      <td>B4</td>\n",
       "      <td>10</td>\n",
       "    </tr>\n",
       "    <tr>\n",
       "      <th>5</th>\n",
       "      <td>B3</td>\n",
       "      <td>B4</td>\n",
       "      <td>20</td>\n",
       "    </tr>\n",
       "  </tbody>\n",
       "</table>\n",
       "</div>"
      ],
      "text/plain": [
       "  from  to  weight\n",
       "0   B1  B2      20\n",
       "1   B1  B3      10\n",
       "2   B1  B4      15\n",
       "3   B2  B3      10\n",
       "4   B2  B4      10\n",
       "5   B3  B4      20"
      ]
     },
     "execution_count": 126,
     "metadata": {},
     "output_type": "execute_result"
    }
   ],
   "source": []
  },
  {
   "cell_type": "code",
   "execution_count": 127,
   "id": "e2be6702",
   "metadata": {},
   "outputs": [
    {
     "data": {
      "image/svg+xml": [
       "<?xml version=\"1.0\" encoding=\"UTF-8\"?>\n",
       "<svg xmlns=\"http://www.w3.org/2000/svg\" xmlns:xlink=\"http://www.w3.org/1999/xlink\" width=\"300pt\" height=\"300pt\" viewBox=\"0 0 300 300\" version=\"1.1\">\n",
       "<defs>\n",
       "<g>\n",
       "<symbol overflow=\"visible\" id=\"glyph0-0\">\n",
       "<path style=\"stroke:none;\" d=\"M 1.40625 -9.625 L 9.09375 -9.625 L 9.09375 0 L 1.40625 0 Z M 1.921875 -9.109375 L 1.921875 -0.515625 L 8.578125 -0.515625 L 8.578125 -9.109375 Z M 1.921875 -9.109375 \"/>\n",
       "</symbol>\n",
       "<symbol overflow=\"visible\" id=\"glyph0-1\">\n",
       "<path style=\"stroke:none;\" d=\"M 8.59375 -2.71875 C 8.59375 -1.851562 8.28125 -1.179688 7.65625 -0.703125 C 7.039062 -0.234375 6.175781 0 5.0625 0 L 1.15625 0 L 1.15625 -9.625 L 4.65625 -9.625 C 6.914062 -9.625 8.046875 -8.847656 8.046875 -7.296875 C 8.046875 -6.722656 7.882812 -6.242188 7.5625 -5.859375 C 7.238281 -5.472656 6.785156 -5.210938 6.203125 -5.078125 C 6.972656 -4.984375 7.5625 -4.722656 7.96875 -4.296875 C 8.382812 -3.878906 8.59375 -3.351562 8.59375 -2.71875 Z M 6.734375 -7.140625 C 6.734375 -7.660156 6.550781 -8.03125 6.1875 -8.25 C 5.832031 -8.476562 5.320312 -8.59375 4.65625 -8.59375 L 2.453125 -8.59375 L 2.453125 -5.53125 L 4.65625 -5.53125 C 5.34375 -5.53125 5.859375 -5.660156 6.203125 -5.921875 C 6.554688 -6.191406 6.734375 -6.597656 6.734375 -7.140625 Z M 7.28125 -2.8125 C 7.28125 -3.945312 6.484375 -4.515625 4.890625 -4.515625 L 2.453125 -4.515625 L 2.453125 -1.046875 L 4.984375 -1.046875 C 5.785156 -1.046875 6.367188 -1.191406 6.734375 -1.484375 C 7.097656 -1.785156 7.28125 -2.226562 7.28125 -2.8125 Z M 7.28125 -2.8125 \"/>\n",
       "</symbol>\n",
       "<symbol overflow=\"visible\" id=\"glyph0-2\">\n",
       "<path style=\"stroke:none;\" d=\"M 1.0625 0 L 1.0625 -1.046875 L 3.515625 -1.046875 L 3.515625 -8.453125 L 1.34375 -6.90625 L 1.34375 -8.0625 L 3.625 -9.625 L 4.765625 -9.625 L 4.765625 -1.046875 L 7.109375 -1.046875 L 7.109375 0 Z M 1.0625 0 \"/>\n",
       "</symbol>\n",
       "<symbol overflow=\"visible\" id=\"glyph0-3\">\n",
       "<path style=\"stroke:none;\" d=\"M 0.703125 0 L 0.703125 -0.875 C 0.929688 -1.40625 1.210938 -1.875 1.546875 -2.28125 C 1.890625 -2.6875 2.242188 -3.054688 2.609375 -3.390625 C 2.984375 -3.722656 3.347656 -4.03125 3.703125 -4.3125 C 4.066406 -4.59375 4.394531 -4.875 4.6875 -5.15625 C 4.976562 -5.4375 5.210938 -5.734375 5.390625 -6.046875 C 5.578125 -6.359375 5.671875 -6.707031 5.671875 -7.09375 C 5.671875 -7.625 5.515625 -8.035156 5.203125 -8.328125 C 4.890625 -8.617188 4.457031 -8.765625 3.90625 -8.765625 C 3.382812 -8.765625 2.953125 -8.617188 2.609375 -8.328125 C 2.273438 -8.046875 2.078125 -7.648438 2.015625 -7.140625 L 0.765625 -7.25 C 0.847656 -8.019531 1.171875 -8.632812 1.734375 -9.09375 C 2.296875 -9.550781 3.019531 -9.78125 3.90625 -9.78125 C 4.875 -9.78125 5.617188 -9.550781 6.140625 -9.09375 C 6.671875 -8.632812 6.9375 -7.984375 6.9375 -7.140625 C 6.9375 -6.765625 6.847656 -6.390625 6.671875 -6.015625 C 6.503906 -5.648438 6.25 -5.28125 5.90625 -4.90625 C 5.570312 -4.539062 4.929688 -3.972656 3.984375 -3.203125 C 3.453125 -2.773438 3.03125 -2.390625 2.71875 -2.046875 C 2.414062 -1.703125 2.195312 -1.367188 2.0625 -1.046875 L 7.078125 -1.046875 L 7.078125 0 Z M 0.703125 0 \"/>\n",
       "</symbol>\n",
       "<symbol overflow=\"visible\" id=\"glyph0-4\">\n",
       "<path style=\"stroke:none;\" d=\"M 7.171875 -2.65625 C 7.171875 -1.769531 6.882812 -1.082031 6.3125 -0.59375 C 5.75 -0.101562 4.945312 0.140625 3.90625 0.140625 C 2.925781 0.140625 2.144531 -0.078125 1.5625 -0.515625 C 0.988281 -0.960938 0.644531 -1.613281 0.53125 -2.46875 L 1.8125 -2.59375 C 1.96875 -1.445312 2.664062 -0.875 3.90625 -0.875 C 4.519531 -0.875 5.003906 -1.023438 5.359375 -1.328125 C 5.710938 -1.640625 5.890625 -2.097656 5.890625 -2.703125 C 5.890625 -3.222656 5.6875 -3.628906 5.28125 -3.921875 C 4.882812 -4.222656 4.304688 -4.375 3.546875 -4.375 L 2.84375 -4.375 L 2.84375 -5.4375 L 3.515625 -5.4375 C 4.191406 -5.4375 4.710938 -5.582031 5.078125 -5.875 C 5.453125 -6.164062 5.640625 -6.570312 5.640625 -7.09375 C 5.640625 -7.613281 5.488281 -8.019531 5.1875 -8.3125 C 4.882812 -8.613281 4.429688 -8.765625 3.828125 -8.765625 C 3.285156 -8.765625 2.847656 -8.625 2.515625 -8.34375 C 2.179688 -8.070312 1.988281 -7.679688 1.9375 -7.171875 L 0.703125 -7.265625 C 0.785156 -8.054688 1.109375 -8.671875 1.671875 -9.109375 C 2.234375 -9.554688 2.957031 -9.78125 3.84375 -9.78125 C 4.8125 -9.78125 5.5625 -9.550781 6.09375 -9.09375 C 6.632812 -8.644531 6.90625 -8.019531 6.90625 -7.21875 C 6.90625 -6.601562 6.734375 -6.101562 6.390625 -5.71875 C 6.046875 -5.332031 5.546875 -5.070312 4.890625 -4.9375 L 4.890625 -4.921875 C 5.609375 -4.835938 6.164062 -4.59375 6.5625 -4.1875 C 6.96875 -3.78125 7.171875 -3.269531 7.171875 -2.65625 Z M 7.171875 -2.65625 \"/>\n",
       "</symbol>\n",
       "<symbol overflow=\"visible\" id=\"glyph0-5\">\n",
       "<path style=\"stroke:none;\" d=\"M 6.015625 -2.1875 L 6.015625 0 L 4.859375 0 L 4.859375 -2.1875 L 0.328125 -2.1875 L 0.328125 -3.140625 L 4.734375 -9.625 L 6.015625 -9.625 L 6.015625 -3.15625 L 7.375 -3.15625 L 7.375 -2.1875 Z M 4.859375 -8.25 C 4.847656 -8.21875 4.78125 -8.09375 4.65625 -7.875 C 4.539062 -7.664062 4.457031 -7.519531 4.40625 -7.4375 L 1.9375 -3.796875 L 1.5625 -3.28125 L 1.453125 -3.15625 L 4.859375 -3.15625 Z M 4.859375 -8.25 \"/>\n",
       "</symbol>\n",
       "</g>\n",
       "</defs>\n",
       "<g id=\"surface107\">\n",
       "<rect x=\"0\" y=\"0\" width=\"300\" height=\"300\" style=\"fill:rgb(100%,100%,100%);fill-opacity:1;stroke:none;\"/>\n",
       "<path style=\"fill:none;stroke-width:1;stroke-linecap:butt;stroke-linejoin:miter;stroke:rgb(26.666667%,26.666667%,26.666667%);stroke-opacity:1;stroke-miterlimit:10;\" d=\"M 280 208.042969 L 91.957031 280 \"/>\n",
       "<path style=\"fill:none;stroke-width:1;stroke-linecap:butt;stroke-linejoin:miter;stroke:rgb(26.666667%,26.666667%,26.666667%);stroke-opacity:1;stroke-miterlimit:10;\" d=\"M 280 208.042969 L 20 91.957031 \"/>\n",
       "<path style=\"fill:none;stroke-width:1;stroke-linecap:butt;stroke-linejoin:miter;stroke:rgb(26.666667%,26.666667%,26.666667%);stroke-opacity:1;stroke-miterlimit:10;\" d=\"M 280 208.042969 L 208.042969 20 \"/>\n",
       "<path style=\"fill:none;stroke-width:1;stroke-linecap:butt;stroke-linejoin:miter;stroke:rgb(26.666667%,26.666667%,26.666667%);stroke-opacity:1;stroke-miterlimit:10;\" d=\"M 91.957031 280 L 20 91.957031 \"/>\n",
       "<path style=\"fill:none;stroke-width:1;stroke-linecap:butt;stroke-linejoin:miter;stroke:rgb(26.666667%,26.666667%,26.666667%);stroke-opacity:1;stroke-miterlimit:10;\" d=\"M 91.957031 280 L 208.042969 20 \"/>\n",
       "<path style=\"fill:none;stroke-width:1;stroke-linecap:butt;stroke-linejoin:miter;stroke:rgb(26.666667%,26.666667%,26.666667%);stroke-opacity:1;stroke-miterlimit:10;\" d=\"M 20 91.957031 L 208.042969 20 \"/>\n",
       "<path style=\"fill-rule:nonzero;fill:rgb(100%,0%,0%);fill-opacity:1;stroke-width:1;stroke-linecap:butt;stroke-linejoin:miter;stroke:rgb(0%,0%,0%);stroke-opacity:1;stroke-miterlimit:10;\" d=\"M 290 208.042969 C 290 213.566406 285.523438 218.042969 280 218.042969 C 274.476562 218.042969 270 213.566406 270 208.042969 C 270 202.519531 274.476562 198.042969 280 198.042969 C 285.523438 198.042969 290 202.519531 290 208.042969 \"/>\n",
       "<path style=\"fill-rule:nonzero;fill:rgb(100%,0%,0%);fill-opacity:1;stroke-width:1;stroke-linecap:butt;stroke-linejoin:miter;stroke:rgb(0%,0%,0%);stroke-opacity:1;stroke-miterlimit:10;\" d=\"M 101.957031 280 C 101.957031 285.523438 97.480469 290 91.957031 290 C 86.433594 290 81.957031 285.523438 81.957031 280 C 81.957031 274.476562 86.433594 270 91.957031 270 C 97.480469 270 101.957031 274.476562 101.957031 280 \"/>\n",
       "<path style=\"fill-rule:nonzero;fill:rgb(100%,0%,0%);fill-opacity:1;stroke-width:1;stroke-linecap:butt;stroke-linejoin:miter;stroke:rgb(0%,0%,0%);stroke-opacity:1;stroke-miterlimit:10;\" d=\"M 30 91.957031 C 30 97.480469 25.523438 101.957031 20 101.957031 C 14.476562 101.957031 10 97.480469 10 91.957031 C 10 86.433594 14.476562 81.957031 20 81.957031 C 25.523438 81.957031 30 86.433594 30 91.957031 \"/>\n",
       "<path style=\"fill-rule:nonzero;fill:rgb(100%,0%,0%);fill-opacity:1;stroke-width:1;stroke-linecap:butt;stroke-linejoin:miter;stroke:rgb(0%,0%,0%);stroke-opacity:1;stroke-miterlimit:10;\" d=\"M 218.042969 20 C 218.042969 25.523438 213.566406 30 208.042969 30 C 202.519531 30 198.042969 25.523438 198.042969 20 C 198.042969 14.476562 202.519531 10 208.042969 10 C 213.566406 10 218.042969 14.476562 218.042969 20 \"/>\n",
       "<g style=\"fill:rgb(0%,0%,0%);fill-opacity:1;\">\n",
       "  <use xlink:href=\"#glyph0-1\" x=\"271.207031\" y=\"214.339844\"/>\n",
       "  <use xlink:href=\"#glyph0-2\" x=\"280.544922\" y=\"214.339844\"/>\n",
       "</g>\n",
       "<g style=\"fill:rgb(0%,0%,0%);fill-opacity:1;\">\n",
       "  <use xlink:href=\"#glyph0-1\" x=\"83.171875\" y=\"286.371094\"/>\n",
       "  <use xlink:href=\"#glyph0-3\" x=\"92.509766\" y=\"286.371094\"/>\n",
       "</g>\n",
       "<g style=\"fill:rgb(0%,0%,0%);fill-opacity:1;\">\n",
       "  <use xlink:href=\"#glyph0-1\" x=\"11.171875\" y=\"98.328125\"/>\n",
       "  <use xlink:href=\"#glyph0-4\" x=\"20.509766\" y=\"98.328125\"/>\n",
       "</g>\n",
       "<g style=\"fill:rgb(0%,0%,0%);fill-opacity:1;\">\n",
       "  <use xlink:href=\"#glyph0-1\" x=\"199.109375\" y=\"26.300781\"/>\n",
       "  <use xlink:href=\"#glyph0-5\" x=\"208.447266\" y=\"26.300781\"/>\n",
       "</g>\n",
       "</g>\n",
       "</svg>\n"
      ],
      "text/plain": [
       "<igraph.drawing.cairo.plot.CairoPlot at 0x7f848cb85400>"
      ]
     },
     "execution_count": 127,
     "metadata": {
      "image/svg+xml": {
       "isolated": true
      }
     },
     "output_type": "execute_result"
    }
   ],
   "source": [
    "\n",
    "\n"
   ]
  },
  {
   "cell_type": "code",
   "execution_count": 128,
   "id": "7409ea3a",
   "metadata": {},
   "outputs": [
    {
     "data": {
      "image/svg+xml": [
       "<?xml version=\"1.0\" encoding=\"UTF-8\"?>\n",
       "<svg xmlns=\"http://www.w3.org/2000/svg\" xmlns:xlink=\"http://www.w3.org/1999/xlink\" width=\"400pt\" height=\"400pt\" viewBox=\"0 0 400 400\" version=\"1.1\">\n",
       "<defs>\n",
       "<g>\n",
       "<symbol overflow=\"visible\" id=\"glyph0-0\">\n",
       "<path style=\"stroke:none;\" d=\"M 1.40625 -9.625 L 9.09375 -9.625 L 9.09375 0 L 1.40625 0 Z M 1.921875 -9.109375 L 1.921875 -0.515625 L 8.578125 -0.515625 L 8.578125 -9.109375 Z M 1.921875 -9.109375 \"/>\n",
       "</symbol>\n",
       "<symbol overflow=\"visible\" id=\"glyph0-1\">\n",
       "<path style=\"stroke:none;\" d=\"M 8.59375 -2.71875 C 8.59375 -1.851562 8.28125 -1.179688 7.65625 -0.703125 C 7.039062 -0.234375 6.175781 0 5.0625 0 L 1.15625 0 L 1.15625 -9.625 L 4.65625 -9.625 C 6.914062 -9.625 8.046875 -8.847656 8.046875 -7.296875 C 8.046875 -6.722656 7.882812 -6.242188 7.5625 -5.859375 C 7.238281 -5.472656 6.785156 -5.210938 6.203125 -5.078125 C 6.972656 -4.984375 7.5625 -4.722656 7.96875 -4.296875 C 8.382812 -3.878906 8.59375 -3.351562 8.59375 -2.71875 Z M 6.734375 -7.140625 C 6.734375 -7.660156 6.550781 -8.03125 6.1875 -8.25 C 5.832031 -8.476562 5.320312 -8.59375 4.65625 -8.59375 L 2.453125 -8.59375 L 2.453125 -5.53125 L 4.65625 -5.53125 C 5.34375 -5.53125 5.859375 -5.660156 6.203125 -5.921875 C 6.554688 -6.191406 6.734375 -6.597656 6.734375 -7.140625 Z M 7.28125 -2.8125 C 7.28125 -3.945312 6.484375 -4.515625 4.890625 -4.515625 L 2.453125 -4.515625 L 2.453125 -1.046875 L 4.984375 -1.046875 C 5.785156 -1.046875 6.367188 -1.191406 6.734375 -1.484375 C 7.097656 -1.785156 7.28125 -2.226562 7.28125 -2.8125 Z M 7.28125 -2.8125 \"/>\n",
       "</symbol>\n",
       "<symbol overflow=\"visible\" id=\"glyph0-2\">\n",
       "<path style=\"stroke:none;\" d=\"M 1.0625 0 L 1.0625 -1.046875 L 3.515625 -1.046875 L 3.515625 -8.453125 L 1.34375 -6.90625 L 1.34375 -8.0625 L 3.625 -9.625 L 4.765625 -9.625 L 4.765625 -1.046875 L 7.109375 -1.046875 L 7.109375 0 Z M 1.0625 0 \"/>\n",
       "</symbol>\n",
       "<symbol overflow=\"visible\" id=\"glyph0-3\">\n",
       "<path style=\"stroke:none;\" d=\"M 0.703125 0 L 0.703125 -0.875 C 0.929688 -1.40625 1.210938 -1.875 1.546875 -2.28125 C 1.890625 -2.6875 2.242188 -3.054688 2.609375 -3.390625 C 2.984375 -3.722656 3.347656 -4.03125 3.703125 -4.3125 C 4.066406 -4.59375 4.394531 -4.875 4.6875 -5.15625 C 4.976562 -5.4375 5.210938 -5.734375 5.390625 -6.046875 C 5.578125 -6.359375 5.671875 -6.707031 5.671875 -7.09375 C 5.671875 -7.625 5.515625 -8.035156 5.203125 -8.328125 C 4.890625 -8.617188 4.457031 -8.765625 3.90625 -8.765625 C 3.382812 -8.765625 2.953125 -8.617188 2.609375 -8.328125 C 2.273438 -8.046875 2.078125 -7.648438 2.015625 -7.140625 L 0.765625 -7.25 C 0.847656 -8.019531 1.171875 -8.632812 1.734375 -9.09375 C 2.296875 -9.550781 3.019531 -9.78125 3.90625 -9.78125 C 4.875 -9.78125 5.617188 -9.550781 6.140625 -9.09375 C 6.671875 -8.632812 6.9375 -7.984375 6.9375 -7.140625 C 6.9375 -6.765625 6.847656 -6.390625 6.671875 -6.015625 C 6.503906 -5.648438 6.25 -5.28125 5.90625 -4.90625 C 5.570312 -4.539062 4.929688 -3.972656 3.984375 -3.203125 C 3.453125 -2.773438 3.03125 -2.390625 2.71875 -2.046875 C 2.414062 -1.703125 2.195312 -1.367188 2.0625 -1.046875 L 7.078125 -1.046875 L 7.078125 0 Z M 0.703125 0 \"/>\n",
       "</symbol>\n",
       "<symbol overflow=\"visible\" id=\"glyph0-4\">\n",
       "<path style=\"stroke:none;\" d=\"M 7.171875 -2.65625 C 7.171875 -1.769531 6.882812 -1.082031 6.3125 -0.59375 C 5.75 -0.101562 4.945312 0.140625 3.90625 0.140625 C 2.925781 0.140625 2.144531 -0.078125 1.5625 -0.515625 C 0.988281 -0.960938 0.644531 -1.613281 0.53125 -2.46875 L 1.8125 -2.59375 C 1.96875 -1.445312 2.664062 -0.875 3.90625 -0.875 C 4.519531 -0.875 5.003906 -1.023438 5.359375 -1.328125 C 5.710938 -1.640625 5.890625 -2.097656 5.890625 -2.703125 C 5.890625 -3.222656 5.6875 -3.628906 5.28125 -3.921875 C 4.882812 -4.222656 4.304688 -4.375 3.546875 -4.375 L 2.84375 -4.375 L 2.84375 -5.4375 L 3.515625 -5.4375 C 4.191406 -5.4375 4.710938 -5.582031 5.078125 -5.875 C 5.453125 -6.164062 5.640625 -6.570312 5.640625 -7.09375 C 5.640625 -7.613281 5.488281 -8.019531 5.1875 -8.3125 C 4.882812 -8.613281 4.429688 -8.765625 3.828125 -8.765625 C 3.285156 -8.765625 2.847656 -8.625 2.515625 -8.34375 C 2.179688 -8.070312 1.988281 -7.679688 1.9375 -7.171875 L 0.703125 -7.265625 C 0.785156 -8.054688 1.109375 -8.671875 1.671875 -9.109375 C 2.234375 -9.554688 2.957031 -9.78125 3.84375 -9.78125 C 4.8125 -9.78125 5.5625 -9.550781 6.09375 -9.09375 C 6.632812 -8.644531 6.90625 -8.019531 6.90625 -7.21875 C 6.90625 -6.601562 6.734375 -6.101562 6.390625 -5.71875 C 6.046875 -5.332031 5.546875 -5.070312 4.890625 -4.9375 L 4.890625 -4.921875 C 5.609375 -4.835938 6.164062 -4.59375 6.5625 -4.1875 C 6.96875 -3.78125 7.171875 -3.269531 7.171875 -2.65625 Z M 7.171875 -2.65625 \"/>\n",
       "</symbol>\n",
       "<symbol overflow=\"visible\" id=\"glyph0-5\">\n",
       "<path style=\"stroke:none;\" d=\"M 6.015625 -2.1875 L 6.015625 0 L 4.859375 0 L 4.859375 -2.1875 L 0.328125 -2.1875 L 0.328125 -3.140625 L 4.734375 -9.625 L 6.015625 -9.625 L 6.015625 -3.15625 L 7.375 -3.15625 L 7.375 -2.1875 Z M 4.859375 -8.25 C 4.847656 -8.21875 4.78125 -8.09375 4.65625 -7.875 C 4.539062 -7.664062 4.457031 -7.519531 4.40625 -7.4375 L 1.9375 -3.796875 L 1.5625 -3.28125 L 1.453125 -3.15625 L 4.859375 -3.15625 Z M 4.859375 -8.25 \"/>\n",
       "</symbol>\n",
       "</g>\n",
       "</defs>\n",
       "<g id=\"surface117\">\n",
       "<rect x=\"0\" y=\"0\" width=\"400\" height=\"400\" style=\"fill:rgb(100%,100%,100%);fill-opacity:1;stroke:none;\"/>\n",
       "<path style=\"fill:none;stroke-width:2;stroke-linecap:butt;stroke-linejoin:miter;stroke:rgb(26.666667%,26.666667%,26.666667%);stroke-opacity:1;stroke-miterlimit:10;\" d=\"M 380 280.367188 L 119.632812 380 \"/>\n",
       "<path style=\"fill:none;stroke-width:1;stroke-linecap:butt;stroke-linejoin:miter;stroke:rgb(26.666667%,26.666667%,26.666667%);stroke-opacity:1;stroke-miterlimit:10;\" d=\"M 380 280.367188 L 20 119.632812 \"/>\n",
       "<path style=\"fill:none;stroke-width:1.5;stroke-linecap:butt;stroke-linejoin:miter;stroke:rgb(26.666667%,26.666667%,26.666667%);stroke-opacity:1;stroke-miterlimit:10;\" d=\"M 380 280.367188 L 280.367188 20 \"/>\n",
       "<path style=\"fill:none;stroke-width:1;stroke-linecap:butt;stroke-linejoin:miter;stroke:rgb(26.666667%,26.666667%,26.666667%);stroke-opacity:1;stroke-miterlimit:10;\" d=\"M 119.632812 380 L 20 119.632812 \"/>\n",
       "<path style=\"fill:none;stroke-width:1;stroke-linecap:butt;stroke-linejoin:miter;stroke:rgb(26.666667%,26.666667%,26.666667%);stroke-opacity:1;stroke-miterlimit:10;\" d=\"M 119.632812 380 L 280.367188 20 \"/>\n",
       "<path style=\"fill:none;stroke-width:2;stroke-linecap:butt;stroke-linejoin:miter;stroke:rgb(26.666667%,26.666667%,26.666667%);stroke-opacity:1;stroke-miterlimit:10;\" d=\"M 20 119.632812 L 280.367188 20 \"/>\n",
       "<path style=\"fill-rule:nonzero;fill:rgb(0%,0%,100%);fill-opacity:1;stroke-width:1;stroke-linecap:butt;stroke-linejoin:miter;stroke:rgb(0%,0%,0%);stroke-opacity:1;stroke-miterlimit:10;\" d=\"M 395 280.367188 C 395 288.648438 388.285156 295.367188 380 295.367188 C 371.714844 295.367188 365 288.648438 365 280.367188 C 365 272.082031 371.714844 265.367188 380 265.367188 C 388.285156 265.367188 395 272.082031 395 280.367188 \"/>\n",
       "<path style=\"fill-rule:nonzero;fill:rgb(100%,100%,0%);fill-opacity:1;stroke-width:1;stroke-linecap:butt;stroke-linejoin:miter;stroke:rgb(0%,0%,0%);stroke-opacity:1;stroke-miterlimit:10;\" d=\"M 134.632812 380 C 134.632812 388.285156 127.917969 395 119.632812 395 C 111.351562 395 104.632812 388.285156 104.632812 380 C 104.632812 371.714844 111.351562 365 119.632812 365 C 127.917969 365 134.632812 371.714844 134.632812 380 \"/>\n",
       "<path style=\"fill-rule:nonzero;fill:rgb(100%,0%,0%);fill-opacity:1;stroke-width:1;stroke-linecap:butt;stroke-linejoin:miter;stroke:rgb(0%,0%,0%);stroke-opacity:1;stroke-miterlimit:10;\" d=\"M 35 119.632812 C 35 127.917969 28.285156 134.632812 20 134.632812 C 11.714844 134.632812 5 127.917969 5 119.632812 C 5 111.351562 11.714844 104.632812 20 104.632812 C 28.285156 104.632812 35 111.351562 35 119.632812 \"/>\n",
       "<path style=\"fill-rule:nonzero;fill:rgb(0%,100%,0%);fill-opacity:1;stroke-width:1;stroke-linecap:butt;stroke-linejoin:miter;stroke:rgb(0%,0%,0%);stroke-opacity:1;stroke-miterlimit:10;\" d=\"M 295.367188 20 C 295.367188 28.285156 288.648438 35 280.367188 35 C 272.082031 35 265.367188 28.285156 265.367188 20 C 265.367188 11.714844 272.082031 5 280.367188 5 C 288.648438 5 295.367188 11.714844 295.367188 20 \"/>\n",
       "<g style=\"fill:rgb(0%,0%,0%);fill-opacity:1;\">\n",
       "  <use xlink:href=\"#glyph0-1\" x=\"371.207031\" y=\"286.664062\"/>\n",
       "  <use xlink:href=\"#glyph0-2\" x=\"380.544922\" y=\"286.664062\"/>\n",
       "</g>\n",
       "<g style=\"fill:rgb(0%,0%,0%);fill-opacity:1;\">\n",
       "  <use xlink:href=\"#glyph0-1\" x=\"110.851562\" y=\"386.371094\"/>\n",
       "  <use xlink:href=\"#glyph0-3\" x=\"120.189453\" y=\"386.371094\"/>\n",
       "</g>\n",
       "<g style=\"fill:rgb(0%,0%,0%);fill-opacity:1;\">\n",
       "  <use xlink:href=\"#glyph0-1\" x=\"11.171875\" y=\"126.003906\"/>\n",
       "  <use xlink:href=\"#glyph0-4\" x=\"20.509766\" y=\"126.003906\"/>\n",
       "</g>\n",
       "<g style=\"fill:rgb(0%,0%,0%);fill-opacity:1;\">\n",
       "  <use xlink:href=\"#glyph0-1\" x=\"271.433594\" y=\"26.300781\"/>\n",
       "  <use xlink:href=\"#glyph0-5\" x=\"280.771484\" y=\"26.300781\"/>\n",
       "</g>\n",
       "</g>\n",
       "</svg>\n"
      ],
      "text/plain": [
       "<igraph.drawing.cairo.plot.CairoPlot at 0x7f848cbe12e0>"
      ]
     },
     "execution_count": 128,
     "metadata": {
      "image/svg+xml": {
       "isolated": true
      }
     },
     "output_type": "execute_result"
    }
   ],
   "source": []
  }
 ],
 "metadata": {
  "kernelspec": {
   "display_name": "Python 3 (ipykernel)",
   "language": "python",
   "name": "python3"
  },
  "language_info": {
   "codemirror_mode": {
    "name": "ipython",
    "version": 3
   },
   "file_extension": ".py",
   "mimetype": "text/x-python",
   "name": "python",
   "nbconvert_exporter": "python",
   "pygments_lexer": "ipython3",
   "version": "3.9.12"
  }
 },
 "nbformat": 4,
 "nbformat_minor": 5
}
