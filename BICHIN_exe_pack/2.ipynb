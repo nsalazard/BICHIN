{
 "cells": [
  {
   "cell_type": "code",
   "execution_count": 2,
   "metadata": {},
   "outputs": [
    {
     "name": "stdout",
     "output_type": "stream",
     "text": [
      "[['apple', 'avocado'], ['banana'], ['cherry', 'carrot'], ['date'], ['elderberry', 'eggplant'], ['fig'], ['grape']]\n"
     ]
    }
   ],
   "source": [
    "def split_list_based_on_first_letter(lst):\n",
    "    dict_letters = {}\n",
    "    for word in lst:\n",
    "        if word[0] not in dict_letters:\n",
    "            dict_letters[word[0]] = [word]\n",
    "        else:\n",
    "            dict_letters[word[0]].append(word)\n",
    "    return list(dict_letters.values())\n",
    "\n",
    "my_list = [\"apple\", \"banana\", \"cherry\", \"date\", \"elderberry\", \"fig\", \"grape\", \"avocado\", \"carrot\", \"eggplant\"]\n",
    "split_list = split_list_based_on_first_letter(my_list)\n",
    "print(split_list)"
   ]
  }
 ],
 "metadata": {
  "kernelspec": {
   "display_name": "Python 3",
   "language": "python",
   "name": "python3"
  },
  "language_info": {
   "codemirror_mode": {
    "name": "ipython",
    "version": 3
   },
   "file_extension": ".py",
   "mimetype": "text/x-python",
   "name": "python",
   "nbconvert_exporter": "python",
   "pygments_lexer": "ipython3",
   "version": "3.10.10"
  }
 },
 "nbformat": 4,
 "nbformat_minor": 2
}
