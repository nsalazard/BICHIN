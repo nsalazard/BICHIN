{
 "cells": [
  {
   "cell_type": "code",
   "execution_count": 36,
   "metadata": {},
   "outputs": [],
   "source": [
    "import numpy as np\n",
    "import pandas as pd\n",
    "import igraph as ig\n",
    "\n",
    "config = pd.read_csv('config.csv')\n",
    "TMAX=config['TMAX'][0]\n",
    "tick=config['data_tick'][0]\n",
    "distribution=str(config['food_dis'][0])\n",
    "times=int(TMAX/tick)\n",
    "\n",
    "results_folder='Clustering_results/'\n",
    "def find_index(array, element):\n",
    "\tresult = np.where(array == element)\n",
    "\tif result[0].size > 0:\n",
    "\t\treturn result[0][0]\n",
    "\telse:\n",
    "\t\treturn -1\n",
    "\n",
    "def find_distance(point1, point2):\n",
    "    return np.linalg.norm(point1 - point2)\n",
    "\n",
    "def load_centroids(times):\n",
    "\tcentroid_list=[]\n",
    "\tfor i in range(times):\n",
    "\t\ttime=i*tick\n",
    "\t\tcentroids=np.loadtxt(results_folder+f\"centroids_{distribution}_{time}.csv\",delimiter=',')\n",
    "\t\tcentroid_list.append(centroids)\n",
    "\n",
    "\treturn centroid_list\n",
    "\n",
    "\n",
    "def find_ancestor(centroid,prev_centroids):\n",
    "\tdistances=[]\n",
    "\tfor ancestor in prev_centroids:\n",
    "\t\tdistance=find_distance(centroid,ancestor)\n",
    "\t\tdistances.append(distance)\n",
    "\n",
    "\treturn np.argmin(distances)\n",
    "\n"
   ]
  },
  {
   "cell_type": "code",
   "execution_count": 37,
   "metadata": {},
   "outputs": [
    {
     "ename": "FileNotFoundError",
     "evalue": "Clustering_results/centroids_0_0.csv not found.",
     "output_type": "error",
     "traceback": [
      "\u001b[1;31m---------------------------------------------------------------------------\u001b[0m",
      "\u001b[1;31mFileNotFoundError\u001b[0m                         Traceback (most recent call last)",
      "Cell \u001b[1;32mIn[37], line 1\u001b[0m\n\u001b[1;32m----> 1\u001b[0m centroid_list\u001b[38;5;241m=\u001b[39m\u001b[43mload_centroids\u001b[49m\u001b[43m(\u001b[49m\u001b[43mtimes\u001b[49m\u001b[43m)\u001b[49m\n\u001b[0;32m      2\u001b[0m original_centers\u001b[38;5;241m=\u001b[39mcentroid_list[\u001b[38;5;241m0\u001b[39m]\n\u001b[0;32m      3\u001b[0m prev_centroids\u001b[38;5;241m=\u001b[39moriginal_centers\n",
      "Cell \u001b[1;32mIn[36], line 26\u001b[0m, in \u001b[0;36mload_centroids\u001b[1;34m(times)\u001b[0m\n\u001b[0;32m     24\u001b[0m \u001b[38;5;28;01mfor\u001b[39;00m i \u001b[38;5;129;01min\u001b[39;00m \u001b[38;5;28mrange\u001b[39m(times):\n\u001b[0;32m     25\u001b[0m \ttime\u001b[38;5;241m=\u001b[39mi\u001b[38;5;241m*\u001b[39mtick\n\u001b[1;32m---> 26\u001b[0m \tcentroids\u001b[38;5;241m=\u001b[39m\u001b[43mnp\u001b[49m\u001b[38;5;241;43m.\u001b[39;49m\u001b[43mloadtxt\u001b[49m\u001b[43m(\u001b[49m\u001b[43mresults_folder\u001b[49m\u001b[38;5;241;43m+\u001b[39;49m\u001b[38;5;124;43mf\u001b[39;49m\u001b[38;5;124;43m\"\u001b[39;49m\u001b[38;5;124;43mcentroids_\u001b[39;49m\u001b[38;5;132;43;01m{\u001b[39;49;00m\u001b[43mdistribution\u001b[49m\u001b[38;5;132;43;01m}\u001b[39;49;00m\u001b[38;5;124;43m_\u001b[39;49m\u001b[38;5;132;43;01m{\u001b[39;49;00m\u001b[43mtime\u001b[49m\u001b[38;5;132;43;01m}\u001b[39;49;00m\u001b[38;5;124;43m.csv\u001b[39;49m\u001b[38;5;124;43m\"\u001b[39;49m\u001b[43m,\u001b[49m\u001b[43mdelimiter\u001b[49m\u001b[38;5;241;43m=\u001b[39;49m\u001b[38;5;124;43m'\u001b[39;49m\u001b[38;5;124;43m,\u001b[39;49m\u001b[38;5;124;43m'\u001b[39;49m\u001b[43m)\u001b[49m\n\u001b[0;32m     27\u001b[0m \tcentroid_list\u001b[38;5;241m.\u001b[39mappend(centroids)\n\u001b[0;32m     29\u001b[0m \u001b[38;5;28;01mreturn\u001b[39;00m centroid_list\n",
      "File \u001b[1;32m~\\AppData\\Roaming\\Python\\Python310\\site-packages\\numpy\\lib\\npyio.py:1373\u001b[0m, in \u001b[0;36mloadtxt\u001b[1;34m(fname, dtype, comments, delimiter, converters, skiprows, usecols, unpack, ndmin, encoding, max_rows, quotechar, like)\u001b[0m\n\u001b[0;32m   1370\u001b[0m \u001b[38;5;28;01mif\u001b[39;00m \u001b[38;5;28misinstance\u001b[39m(delimiter, \u001b[38;5;28mbytes\u001b[39m):\n\u001b[0;32m   1371\u001b[0m     delimiter \u001b[38;5;241m=\u001b[39m delimiter\u001b[38;5;241m.\u001b[39mdecode(\u001b[38;5;124m'\u001b[39m\u001b[38;5;124mlatin1\u001b[39m\u001b[38;5;124m'\u001b[39m)\n\u001b[1;32m-> 1373\u001b[0m arr \u001b[38;5;241m=\u001b[39m \u001b[43m_read\u001b[49m\u001b[43m(\u001b[49m\u001b[43mfname\u001b[49m\u001b[43m,\u001b[49m\u001b[43m \u001b[49m\u001b[43mdtype\u001b[49m\u001b[38;5;241;43m=\u001b[39;49m\u001b[43mdtype\u001b[49m\u001b[43m,\u001b[49m\u001b[43m \u001b[49m\u001b[43mcomment\u001b[49m\u001b[38;5;241;43m=\u001b[39;49m\u001b[43mcomment\u001b[49m\u001b[43m,\u001b[49m\u001b[43m \u001b[49m\u001b[43mdelimiter\u001b[49m\u001b[38;5;241;43m=\u001b[39;49m\u001b[43mdelimiter\u001b[49m\u001b[43m,\u001b[49m\n\u001b[0;32m   1374\u001b[0m \u001b[43m            \u001b[49m\u001b[43mconverters\u001b[49m\u001b[38;5;241;43m=\u001b[39;49m\u001b[43mconverters\u001b[49m\u001b[43m,\u001b[49m\u001b[43m \u001b[49m\u001b[43mskiplines\u001b[49m\u001b[38;5;241;43m=\u001b[39;49m\u001b[43mskiprows\u001b[49m\u001b[43m,\u001b[49m\u001b[43m \u001b[49m\u001b[43musecols\u001b[49m\u001b[38;5;241;43m=\u001b[39;49m\u001b[43musecols\u001b[49m\u001b[43m,\u001b[49m\n\u001b[0;32m   1375\u001b[0m \u001b[43m            \u001b[49m\u001b[43munpack\u001b[49m\u001b[38;5;241;43m=\u001b[39;49m\u001b[43munpack\u001b[49m\u001b[43m,\u001b[49m\u001b[43m \u001b[49m\u001b[43mndmin\u001b[49m\u001b[38;5;241;43m=\u001b[39;49m\u001b[43mndmin\u001b[49m\u001b[43m,\u001b[49m\u001b[43m \u001b[49m\u001b[43mencoding\u001b[49m\u001b[38;5;241;43m=\u001b[39;49m\u001b[43mencoding\u001b[49m\u001b[43m,\u001b[49m\n\u001b[0;32m   1376\u001b[0m \u001b[43m            \u001b[49m\u001b[43mmax_rows\u001b[49m\u001b[38;5;241;43m=\u001b[39;49m\u001b[43mmax_rows\u001b[49m\u001b[43m,\u001b[49m\u001b[43m \u001b[49m\u001b[43mquote\u001b[49m\u001b[38;5;241;43m=\u001b[39;49m\u001b[43mquotechar\u001b[49m\u001b[43m)\u001b[49m\n\u001b[0;32m   1378\u001b[0m \u001b[38;5;28;01mreturn\u001b[39;00m arr\n",
      "File \u001b[1;32m~\\AppData\\Roaming\\Python\\Python310\\site-packages\\numpy\\lib\\npyio.py:992\u001b[0m, in \u001b[0;36m_read\u001b[1;34m(fname, delimiter, comment, quote, imaginary_unit, usecols, skiplines, max_rows, converters, ndmin, unpack, dtype, encoding)\u001b[0m\n\u001b[0;32m    990\u001b[0m     fname \u001b[38;5;241m=\u001b[39m os\u001b[38;5;241m.\u001b[39mfspath(fname)\n\u001b[0;32m    991\u001b[0m \u001b[38;5;28;01mif\u001b[39;00m \u001b[38;5;28misinstance\u001b[39m(fname, \u001b[38;5;28mstr\u001b[39m):\n\u001b[1;32m--> 992\u001b[0m     fh \u001b[38;5;241m=\u001b[39m \u001b[43mnp\u001b[49m\u001b[38;5;241;43m.\u001b[39;49m\u001b[43mlib\u001b[49m\u001b[38;5;241;43m.\u001b[39;49m\u001b[43m_datasource\u001b[49m\u001b[38;5;241;43m.\u001b[39;49m\u001b[43mopen\u001b[49m\u001b[43m(\u001b[49m\u001b[43mfname\u001b[49m\u001b[43m,\u001b[49m\u001b[43m \u001b[49m\u001b[38;5;124;43m'\u001b[39;49m\u001b[38;5;124;43mrt\u001b[39;49m\u001b[38;5;124;43m'\u001b[39;49m\u001b[43m,\u001b[49m\u001b[43m \u001b[49m\u001b[43mencoding\u001b[49m\u001b[38;5;241;43m=\u001b[39;49m\u001b[43mencoding\u001b[49m\u001b[43m)\u001b[49m\n\u001b[0;32m    993\u001b[0m     \u001b[38;5;28;01mif\u001b[39;00m encoding \u001b[38;5;129;01mis\u001b[39;00m \u001b[38;5;28;01mNone\u001b[39;00m:\n\u001b[0;32m    994\u001b[0m         encoding \u001b[38;5;241m=\u001b[39m \u001b[38;5;28mgetattr\u001b[39m(fh, \u001b[38;5;124m'\u001b[39m\u001b[38;5;124mencoding\u001b[39m\u001b[38;5;124m'\u001b[39m, \u001b[38;5;124m'\u001b[39m\u001b[38;5;124mlatin1\u001b[39m\u001b[38;5;124m'\u001b[39m)\n",
      "File \u001b[1;32m~\\AppData\\Roaming\\Python\\Python310\\site-packages\\numpy\\lib\\_datasource.py:193\u001b[0m, in \u001b[0;36mopen\u001b[1;34m(path, mode, destpath, encoding, newline)\u001b[0m\n\u001b[0;32m    156\u001b[0m \u001b[38;5;250m\u001b[39m\u001b[38;5;124;03m\"\"\"\u001b[39;00m\n\u001b[0;32m    157\u001b[0m \u001b[38;5;124;03mOpen `path` with `mode` and return the file object.\u001b[39;00m\n\u001b[0;32m    158\u001b[0m \n\u001b[1;32m   (...)\u001b[0m\n\u001b[0;32m    189\u001b[0m \n\u001b[0;32m    190\u001b[0m \u001b[38;5;124;03m\"\"\"\u001b[39;00m\n\u001b[0;32m    192\u001b[0m ds \u001b[38;5;241m=\u001b[39m DataSource(destpath)\n\u001b[1;32m--> 193\u001b[0m \u001b[38;5;28;01mreturn\u001b[39;00m \u001b[43mds\u001b[49m\u001b[38;5;241;43m.\u001b[39;49m\u001b[43mopen\u001b[49m\u001b[43m(\u001b[49m\u001b[43mpath\u001b[49m\u001b[43m,\u001b[49m\u001b[43m \u001b[49m\u001b[43mmode\u001b[49m\u001b[43m,\u001b[49m\u001b[43m \u001b[49m\u001b[43mencoding\u001b[49m\u001b[38;5;241;43m=\u001b[39;49m\u001b[43mencoding\u001b[49m\u001b[43m,\u001b[49m\u001b[43m \u001b[49m\u001b[43mnewline\u001b[49m\u001b[38;5;241;43m=\u001b[39;49m\u001b[43mnewline\u001b[49m\u001b[43m)\u001b[49m\n",
      "File \u001b[1;32m~\\AppData\\Roaming\\Python\\Python310\\site-packages\\numpy\\lib\\_datasource.py:533\u001b[0m, in \u001b[0;36mDataSource.open\u001b[1;34m(self, path, mode, encoding, newline)\u001b[0m\n\u001b[0;32m    530\u001b[0m     \u001b[38;5;28;01mreturn\u001b[39;00m _file_openers[ext](found, mode\u001b[38;5;241m=\u001b[39mmode,\n\u001b[0;32m    531\u001b[0m                               encoding\u001b[38;5;241m=\u001b[39mencoding, newline\u001b[38;5;241m=\u001b[39mnewline)\n\u001b[0;32m    532\u001b[0m \u001b[38;5;28;01melse\u001b[39;00m:\n\u001b[1;32m--> 533\u001b[0m     \u001b[38;5;28;01mraise\u001b[39;00m \u001b[38;5;167;01mFileNotFoundError\u001b[39;00m(\u001b[38;5;124mf\u001b[39m\u001b[38;5;124m\"\u001b[39m\u001b[38;5;132;01m{\u001b[39;00mpath\u001b[38;5;132;01m}\u001b[39;00m\u001b[38;5;124m not found.\u001b[39m\u001b[38;5;124m\"\u001b[39m)\n",
      "\u001b[1;31mFileNotFoundError\u001b[0m: Clustering_results/centroids_0_0.csv not found."
     ]
    }
   ],
   "source": [
    "centroid_list=load_centroids(times)\n",
    "original_centers=centroid_list[0]\n",
    "prev_centroids=original_centers"
   ]
  },
  {
   "cell_type": "code",
   "execution_count": null,
   "metadata": {},
   "outputs": [],
   "source": [
    "# node_index={}\n",
    "Graph = ig.Graph()\n",
    "\n",
    "for time in range(times):\n",
    "\tcentroids=centroid_list[time]\n",
    "\t\n",
    "\tii=0\n",
    "\n",
    "\tfor centroid in centroids:\n",
    "\t\tnode=f\"{time}_{ii}\"\n",
    "\t\tGraph.add_vertex(node)\n",
    "\t\tif time>0:\n",
    "\t\t\tancestor=find_ancestor(centroid,prev_centroids)\n",
    "\t\t\tancestor_node=f\"{time-1}_{ancestor}\"\n",
    "\t\t\tGraph.add_edge(node,ancestor_node)\n",
    "\t\tii+=1\n",
    "\tprev_centroids=centroids\n",
    "\n",
    "\t\n"
   ]
  },
  {
   "cell_type": "code",
   "execution_count": null,
   "metadata": {},
   "outputs": [],
   "source": [
    "components = Graph.connected_components()\n",
    "i=0\n",
    "subgraphs=[]\n",
    "layouts = []\n",
    "for component in components:\n",
    "\ti+=1\n",
    "\t# print(component)\n",
    "\tsubgraph = Graph.subgraph(component)\n",
    "\tsubgraphs.append(subgraph)\n",
    "\tlayout = subgraph.layout_reingold_tilford(mode=\"in\", root=[0])\n",
    "\tlayouts.append(layout)\n",
    "\t# ig.plot(subgraph, layout=layout, vertex_label=subgraph.vs[\"name\"],target=f'subgraph_{i}.png')\n"
   ]
  },
  {
   "cell_type": "code",
   "execution_count": 38,
   "metadata": {},
   "outputs": [
    {
     "name": "stdout",
     "output_type": "stream",
     "text": [
      "[ 32.04166667 199.        ]\n",
      "[0. 2.]\n",
      "[0. 0.]\n",
      "xc\n"
     ]
    }
   ],
   "source": [
    "\n",
    "\n",
    "\n",
    "sizes = [(np.array([coord for coord in layout]), np.ptp(layout, axis=0)) for layout in layouts]\n",
    "\n",
    "translation = np.array([0, 0],dtype='float64')\n",
    "\n",
    "translated_layouts = []\n",
    "\n",
    "for layout, size in sizes:\n",
    "    print(size)\n",
    "    \n",
    "    translation_width = 0*size[0] + 5\n",
    "    translation += np.array([translation_width, 0], dtype='float64')\n",
    "    translated_layout = layout + translation\n",
    "    translated_layouts.append(translated_layout)\n",
    "\n",
    "combined_layout = np.concatenate(translated_layouts)\n",
    "\n",
    "\n",
    "\n",
    "\n",
    "colors = ['red', 'green', 'yellow', 'purple']  # Add more colors if needed\n",
    "# TODO add HSV colors\n",
    "\n",
    "\n",
    "# Assign a color to each vertex based on its subgraph\n",
    "for i, subgraph in enumerate(subgraphs):\n",
    "    for v in subgraph.vs:\n",
    "        v['color'] = colors[i % len(colors)]\n",
    "\n",
    "combined_graph = ig.Graph().disjoint_union(subgraphs)\n",
    "vertex_labels = combined_graph.vs['name']\n",
    "resolution = 100\n",
    "plot_size = (16*resolution, 9*resolution)\n",
    "\n",
    "\n",
    "scale= 0.3\n",
    "plot = ig.plot(\n",
    "    combined_graph, \n",
    "    layout=combined_layout,\n",
    "    vertex_label=vertex_labels,\n",
    "    vertex_label_size=10*scale,\n",
    "    vertex_size=20*scale,\n",
    "    bbox=plot_size,\n",
    "    vertex_color=combined_graph.vs['color'],\n",
    "    margin=150\n",
    "    \n",
    "\t)\n",
    "\n",
    "# Save the plot\n",
    "print(\"xc\")\n",
    "plot.save('combined_graph.png')\n"
   ]
  },
  {
   "cell_type": "code",
   "execution_count": null,
   "metadata": {},
   "outputs": [],
   "source": []
  }
 ],
 "metadata": {
  "kernelspec": {
   "display_name": "Python 3",
   "language": "python",
   "name": "python3"
  },
  "language_info": {
   "codemirror_mode": {
    "name": "ipython",
    "version": 3
   },
   "file_extension": ".py",
   "mimetype": "text/x-python",
   "name": "python",
   "nbconvert_exporter": "python",
   "pygments_lexer": "ipython3",
   "version": "3.10.10"
  }
 },
 "nbformat": 4,
 "nbformat_minor": 2
}
