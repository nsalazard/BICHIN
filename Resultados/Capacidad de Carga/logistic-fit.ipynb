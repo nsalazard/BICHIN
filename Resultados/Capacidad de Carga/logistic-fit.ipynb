{
  "cells": [
    {
      "cell_type": "markdown",
      "metadata": {
        "colab_type": "text",
        "id": "view-in-github"
      },
      "source": [
        "<a href=\"https://colab.research.google.com/github/nsalazard/BICHIN/blob/main/grafo_bichines.ipynb\" target=\"_parent\"><img src=\"https://colab.research.google.com/assets/colab-badge.svg\" alt=\"Open In Colab\"/></a>"
      ]
    },
    {
      "cell_type": "code",
      "execution_count": 50,
      "id": "ZGnX7B3bsNJP",
      "metadata": {
        "colab": {
          "base_uri": "https://localhost:8080/"
        },
        "id": "ZGnX7B3bsNJP",
        "outputId": "52082183-701b-4870-99e8-254908bf96d1"
      },
      "outputs": [
        {
          "name": "stdout",
          "output_type": "stream",
          "text": [
            "Requirement already satisfied: igraph in c:\\users\\diana\\anaconda3\\lib\\site-packages (0.10.2)\n",
            "Requirement already satisfied: texttable>=1.6.2 in c:\\users\\diana\\anaconda3\\lib\\site-packages (from igraph) (1.6.7)\n",
            "Note: you may need to restart the kernel to use updated packages.\n"
          ]
        },
        {
          "name": "stderr",
          "output_type": "stream",
          "text": [
            "UsageError: Line magic function `%apt-get` not found.\n"
          ]
        }
      ],
      "source": [
        "%pip install igraph\n",
        "%apt-get install libcairo2-dev libjpeg-dev libgif-dev\n",
        "%pip install pycairo\n",
        "%pip install scipy\n"
      ]
    },
    {
      "cell_type": "code",
      "execution_count": 82,
      "id": "2e1650c4",
      "metadata": {},
      "outputs": [],
      "source": [
        "import os\n",
        "import igraph as ig\n",
        "import pandas as pd\n",
        "import numpy as np\n",
        "\n",
        "EdgeFiles=[]\n",
        "NodeFiles=[]\n",
        "for file in os.listdir(\"./Edges\"):\n",
        "    if file.endswith(\".csv\"):\n",
        "        EdgeFiles.append(os.path.join(\"./Edges\", file))\n",
        "for file in os.listdir(\"./Nodos\"):\n",
        "    if file.endswith(\".csv\"):\n",
        "        NodeFiles.append(os.path.join(\"./Nodos\", file))\n",
        "        \n",
        "for i in range(len(EdgeFiles)):\n",
        "    nodes = pd.read_csv(NodeFiles[i])\n",
        "    edges = pd.read_csv(EdgeFiles[i]) #Importar datos\n",
        "   \n",
        "    edges=edges[edges[\"weight\"]<=50]\n",
        "   \n",
        "    g = ig.Graph.TupleList(edges.values,directed=False, #Forma tuplas con las conexiones de los nodos, e indica si usar flechas\n",
        "                       edge_attrs=edges.columns[2:])#Guarda los atributos extras (peso,tipo,etc)\n",
        "\n",
        "    nodes_df = nodes.set_index(['id'])\n",
        "\n",
        "    for column in nodes_df:   \n",
        "        g.vs[column] = nodes_df.loc[g.vs['name'],column] #g.vs guarda los atributos relacionados con los vertices (nodos)\n",
        "                                                     #El atributo es el gen-dominante en este caso (Se pueden agregar mas)\n",
        "\n",
        "\n",
        "\n",
        "    vertex_type_dict = {\"F\": \"blue\", \"L1\": \"yellow\", \"L2\": \"red\",\"L3\":\"green\",\"B\":\"black\",\"R3\":\"cyan\",\"R2\":\"magenta\",\"R1\":\"white\"} #Colores asignados a los genes\n",
        "    visual_style = {}\n",
        "\n",
        "    visual_style[\"vertex_size\"] = 3 #tamano nodo\n",
        "    visual_style[\"vertex_color\"] = [vertex_type_dict[type_label] for type_label in g.vs[\"gen_predominante\"]] #asignar color\n",
        "    #visual_style[\"vertex_label\"] = g.vs[\"name\"] #nombre de los nodos\n",
        "    visual_style[\"edge_width\"] = [weight/50 for weight in g.es['weight']]\n",
        "    visual_style[\"bbox\"] = (400, 400)\n",
        "    visual_style[\"margin\"] = 20\n",
        "    lay = g.layout(\"kk\")\n",
        "\n",
        "    out=ig.plot(g, **visual_style,layout=lay)\n",
        "    out.save(\"Grapht\"+str(i)+\".png\")"
      ]
    },
    {
      "cell_type": "code",
      "execution_count": 18,
      "id": "31ac41aa",
      "metadata": {},
      "outputs": [
        {
          "data": {
            "text/html": [
              "<div>\n",
              "<style scoped>\n",
              "    .dataframe tbody tr th:only-of-type {\n",
              "        vertical-align: middle;\n",
              "    }\n",
              "\n",
              "    .dataframe tbody tr th {\n",
              "        vertical-align: top;\n",
              "    }\n",
              "\n",
              "    .dataframe thead th {\n",
              "        text-align: right;\n",
              "    }\n",
              "</style>\n",
              "<table border=\"1\" class=\"dataframe\">\n",
              "  <thead>\n",
              "    <tr style=\"text-align: right;\">\n",
              "      <th></th>\n",
              "      <th>Time</th>\n",
              "      <th>Population</th>\n",
              "    </tr>\n",
              "  </thead>\n",
              "  <tbody>\n",
              "    <tr>\n",
              "      <th>0</th>\n",
              "      <td>0</td>\n",
              "      <td>100</td>\n",
              "    </tr>\n",
              "    <tr>\n",
              "      <th>1</th>\n",
              "      <td>1</td>\n",
              "      <td>100</td>\n",
              "    </tr>\n",
              "    <tr>\n",
              "      <th>2</th>\n",
              "      <td>2</td>\n",
              "      <td>100</td>\n",
              "    </tr>\n",
              "    <tr>\n",
              "      <th>3</th>\n",
              "      <td>3</td>\n",
              "      <td>100</td>\n",
              "    </tr>\n",
              "    <tr>\n",
              "      <th>4</th>\n",
              "      <td>4</td>\n",
              "      <td>100</td>\n",
              "    </tr>\n",
              "    <tr>\n",
              "      <th>5</th>\n",
              "      <td>5</td>\n",
              "      <td>100</td>\n",
              "    </tr>\n",
              "    <tr>\n",
              "      <th>6</th>\n",
              "      <td>6</td>\n",
              "      <td>100</td>\n",
              "    </tr>\n",
              "    <tr>\n",
              "      <th>7</th>\n",
              "      <td>7</td>\n",
              "      <td>100</td>\n",
              "    </tr>\n",
              "  </tbody>\n",
              "</table>\n",
              "</div>"
            ],
            "text/plain": [
              "   Time  Population\n",
              "0     0         100\n",
              "1     1         100\n",
              "2     2         100\n",
              "3     3         100\n",
              "4     4         100\n",
              "5     5         100\n",
              "6     6         100\n",
              "7     7         100"
            ]
          },
          "execution_count": 18,
          "metadata": {},
          "output_type": "execute_result"
        }
      ],
      "source": [
        "import pandas as pd\n",
        "import numpy as np\n",
        "data=pd.read_csv(\"./poblacion_Uni_100kt1500.csv\",delim_whitespace=True)\n",
        "#data=data.reset_index(drop=False)\n",
        "#data.columns=[\"Time\",\"Population\"]\n",
        "data.head(8)"
      ]
    },
    {
      "cell_type": "code",
      "execution_count": 12,
      "id": "9c619bfe",
      "metadata": {},
      "outputs": [],
      "source": [
        "def my_logistic(t,a,b,c): #b es la rata de cambio de la poblacion y c la capacidad de carga\n",
        "    return c/(1+a*np.exp(-b*t))"
      ]
    },
    {
      "cell_type": "code",
      "execution_count": 4,
      "id": "0201cef0",
      "metadata": {},
      "outputs": [
        {
          "data": {
            "text/plain": [
              "array([0.45743148, 1.39088241, 0.69482747])"
            ]
          },
          "execution_count": 4,
          "metadata": {},
          "output_type": "execute_result"
        }
      ],
      "source": [
        "p0=np.random.exponential(size=3)\n",
        "p0\n",
        " #limites para hacer el fit, tenemos maximo 4000 bichitos y cada bichito solo puede dividirse en 2"
      ]
    },
    {
      "cell_type": "code",
      "execution_count": 19,
      "id": "a692257c",
      "metadata": {},
      "outputs": [
        {
          "data": {
            "text/plain": [
              "(8.881376092625901, 0.006902572402411946, 1433.877964514989)"
            ]
          },
          "execution_count": 19,
          "metadata": {},
          "output_type": "execute_result"
        }
      ],
      "source": [
        "import scipy.optimize as optim\n",
        "x=np.array(data[\"Time\"])+1\n",
        "y=np.array(data[\"Population\"])\n",
        "bounds=(0,[4000,3,4000])\n",
        "(a,b,c),cov=optim.curve_fit(my_logistic,x,y,bounds=bounds,p0=p0)\n",
        "a,b,c"
      ]
    }
  ],
  "metadata": {
    "colab": {
      "include_colab_link": true,
      "provenance": []
    },
    "kernelspec": {
      "display_name": "Python 3.9.13 ('base')",
      "language": "python",
      "name": "python3"
    },
    "language_info": {
      "codemirror_mode": {
        "name": "ipython",
        "version": 3
      },
      "file_extension": ".py",
      "mimetype": "text/x-python",
      "name": "python",
      "nbconvert_exporter": "python",
      "pygments_lexer": "ipython3",
      "version": "3.9.13"
    },
    "vscode": {
      "interpreter": {
        "hash": "1d15cb449ddb5c8af7ba21b504f7cc1bf232918192409c14aacfe804a889b437"
      }
    }
  },
  "nbformat": 4,
  "nbformat_minor": 5
}
